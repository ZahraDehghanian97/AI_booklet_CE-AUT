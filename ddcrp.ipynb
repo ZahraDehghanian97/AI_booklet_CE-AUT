{
  "nbformat": 4,
  "nbformat_minor": 0,
  "metadata": {
    "colab": {
      "provenance": [],
      "authorship_tag": "ABX9TyN/u6QBAsgP+vIaD/7eGqOe",
      "include_colab_link": true
    },
    "kernelspec": {
      "name": "python3",
      "display_name": "Python 3"
    },
    "language_info": {
      "name": "python"
    }
  },
  "cells": [
    {
      "cell_type": "markdown",
      "metadata": {
        "id": "view-in-github",
        "colab_type": "text"
      },
      "source": [
        "<a href=\"https://colab.research.google.com/github/zahraDehghanian97/AI_booklet_CE-AUT/blob/master/ddcrp.ipynb\" target=\"_parent\"><img src=\"https://colab.research.google.com/assets/colab-badge.svg\" alt=\"Open In Colab\"/></a>"
      ]
    },
    {
      "cell_type": "code",
      "source": [
        "!pip install torch_geometric"
      ],
      "metadata": {
        "colab": {
          "base_uri": "https://localhost:8080/"
        },
        "id": "8ots1QYIPPCM",
        "outputId": "e19af1e1-b8b5-4ce3-940a-fa2fa1ab45cc"
      },
      "execution_count": 4,
      "outputs": [
        {
          "output_type": "stream",
          "name": "stdout",
          "text": [
            "Looking in indexes: https://pypi.org/simple, https://us-python.pkg.dev/colab-wheels/public/simple/\n",
            "Collecting torch_geometric\n",
            "  Downloading torch_geometric-2.3.1.tar.gz (661 kB)\n",
            "\u001b[2K     \u001b[90m━━━━━━━━━━━━━━━━━━━━━━━━━━━━━━━━━━━━━━\u001b[0m \u001b[32m661.6/661.6 kB\u001b[0m \u001b[31m23.0 MB/s\u001b[0m eta \u001b[36m0:00:00\u001b[0m\n",
            "\u001b[?25h  Installing build dependencies ... \u001b[?25l\u001b[?25hdone\n",
            "  Getting requirements to build wheel ... \u001b[?25l\u001b[?25hdone\n",
            "  Preparing metadata (pyproject.toml) ... \u001b[?25l\u001b[?25hdone\n",
            "Requirement already satisfied: scipy in /usr/local/lib/python3.10/dist-packages (from torch_geometric) (1.10.1)\n",
            "Requirement already satisfied: requests in /usr/local/lib/python3.10/dist-packages (from torch_geometric) (2.27.1)\n",
            "Requirement already satisfied: pyparsing in /usr/local/lib/python3.10/dist-packages (from torch_geometric) (3.0.9)\n",
            "Requirement already satisfied: jinja2 in /usr/local/lib/python3.10/dist-packages (from torch_geometric) (3.1.2)\n",
            "Requirement already satisfied: scikit-learn in /usr/local/lib/python3.10/dist-packages (from torch_geometric) (1.2.2)\n",
            "Requirement already satisfied: psutil>=5.8.0 in /usr/local/lib/python3.10/dist-packages (from torch_geometric) (5.9.5)\n",
            "Requirement already satisfied: tqdm in /usr/local/lib/python3.10/dist-packages (from torch_geometric) (4.65.0)\n",
            "Requirement already satisfied: numpy in /usr/local/lib/python3.10/dist-packages (from torch_geometric) (1.22.4)\n",
            "Requirement already satisfied: MarkupSafe>=2.0 in /usr/local/lib/python3.10/dist-packages (from jinja2->torch_geometric) (2.1.2)\n",
            "Requirement already satisfied: charset-normalizer~=2.0.0 in /usr/local/lib/python3.10/dist-packages (from requests->torch_geometric) (2.0.12)\n",
            "Requirement already satisfied: idna<4,>=2.5 in /usr/local/lib/python3.10/dist-packages (from requests->torch_geometric) (3.4)\n",
            "Requirement already satisfied: urllib3<1.27,>=1.21.1 in /usr/local/lib/python3.10/dist-packages (from requests->torch_geometric) (1.26.15)\n",
            "Requirement already satisfied: certifi>=2017.4.17 in /usr/local/lib/python3.10/dist-packages (from requests->torch_geometric) (2022.12.7)\n",
            "Requirement already satisfied: threadpoolctl>=2.0.0 in /usr/local/lib/python3.10/dist-packages (from scikit-learn->torch_geometric) (3.1.0)\n",
            "Requirement already satisfied: joblib>=1.1.1 in /usr/local/lib/python3.10/dist-packages (from scikit-learn->torch_geometric) (1.2.0)\n",
            "Building wheels for collected packages: torch_geometric\n",
            "  Building wheel for torch_geometric (pyproject.toml) ... \u001b[?25l\u001b[?25hdone\n",
            "  Created wheel for torch_geometric: filename=torch_geometric-2.3.1-py3-none-any.whl size=910476 sha256=2932a3c4e877f09f28f36c88e65914cb43b5d390d91abbe6cd0649c229f769f5\n",
            "  Stored in directory: /root/.cache/pip/wheels/ac/dc/30/e2874821ff308ee67dcd7a66dbde912411e19e35a1addda028\n",
            "Successfully built torch_geometric\n",
            "Installing collected packages: torch_geometric\n",
            "Successfully installed torch_geometric-2.3.1\n"
          ]
        }
      ]
    },
    {
      "cell_type": "code",
      "source": [
        "from torch_geometric.datasets import Planetoid\n",
        "import numpy as np\n",
        "from numpy import seterr, isneginf, array\n",
        "from scipy.special import gammaln\n",
        "from scipy.special import logsumexp\n",
        "\n",
        "\n",
        "dataset = Planetoid(\"/content/sample_data/Cora\" , name = 'Cora')"
      ],
      "metadata": {
        "colab": {
          "base_uri": "https://localhost:8080/"
        },
        "id": "nhSEBP4-Pcx3",
        "outputId": "e71b6038-c782-4c5f-b47c-334d40493c73"
      },
      "execution_count": 6,
      "outputs": [
        {
          "output_type": "stream",
          "name": "stderr",
          "text": [
            "Downloading https://github.com/kimiyoung/planetoid/raw/master/data/ind.cora.x\n",
            "Downloading https://github.com/kimiyoung/planetoid/raw/master/data/ind.cora.tx\n",
            "Downloading https://github.com/kimiyoung/planetoid/raw/master/data/ind.cora.allx\n",
            "Downloading https://github.com/kimiyoung/planetoid/raw/master/data/ind.cora.y\n",
            "Downloading https://github.com/kimiyoung/planetoid/raw/master/data/ind.cora.ty\n",
            "Downloading https://github.com/kimiyoung/planetoid/raw/master/data/ind.cora.ally\n",
            "Downloading https://github.com/kimiyoung/planetoid/raw/master/data/ind.cora.graph\n",
            "Downloading https://github.com/kimiyoung/planetoid/raw/master/data/ind.cora.test.index\n",
            "Processing...\n",
            "Done!\n"
          ]
        }
      ]
    },
    {
      "cell_type": "code",
      "source": [
        "print(dataset.data.keys)\n",
        "features = dataset.data.x\n",
        "x = features.detach().cpu().numpy()[0:100]\n",
        "print(x.shape)\n",
        "\n",
        "# x = np.array([[10,0,0,0,0],[10,0,0,0,0],[5,0,0,0,0],[11,0,0,0,1],[0,10,0,0,1],[0,10,0,0,0],[0,0,10,0,0],[0,1,10,0,0],[20,0,2,0,0],[10,0,0,1,0],[10,1,0,10,0],[10,0,2,10,0],[10,0,0,10,0],[10,1,0,1,0],[10,0,0,0,0],])\n"
      ],
      "metadata": {
        "colab": {
          "base_uri": "https://localhost:8080/"
        },
        "id": "47sgIPB2P3Gh",
        "outputId": "89ba4c7f-1e1f-45a0-cbcf-4fbf368aa12b"
      },
      "execution_count": 35,
      "outputs": [
        {
          "output_type": "stream",
          "name": "stdout",
          "text": [
            "['x', 'edge_index', 'train_mask', 'test_mask', 'val_mask', 'y']\n",
            "(100, 1433)\n"
          ]
        },
        {
          "output_type": "stream",
          "name": "stderr",
          "text": [
            "/usr/local/lib/python3.10/dist-packages/torch_geometric/data/in_memory_dataset.py:157: UserWarning: It is not recommended to directly access the internal storage format `data` of an 'InMemoryDataset'. If you are absolutely certain what you are doing, access the internal storage via `InMemoryDataset._data` instead to suppress this warning. Alternatively, you can access stacked individual attributes of every graph via `dataset.{attr_name}`.\n",
            "  warnings.warn(msg)\n"
          ]
        }
      ]
    },
    {
      "cell_type": "code",
      "source": [
        "#bookkeeper data\n",
        "#cluster,link,obs,lhood,\n",
        "def dirichlet_likelihood(Xp, hyper):\n",
        "    if len(Xp.shape) == 2:\n",
        "        X =sum(Xp)\n",
        "    else:\n",
        "        X = Xp\n",
        "    idx = np.where(X!=0)\n",
        "    lh = gammaln(len(X)*hyper) + sum(gammaln(X[idx]+hyper))\\\n",
        "    -len(idx)*gammaln(hyper)  - gammaln(sum(X)+len(X) * hyper)\n",
        "    return lh\n",
        "\n",
        "\n",
        "\n",
        "hyper = 0.001 #0.2\n",
        "lhood_fn = lambda x:dirichlet_likelihood(x,hyper)\n"
      ],
      "metadata": {
        "id": "BCn3ML0TNzh6"
      },
      "execution_count": 43,
      "outputs": []
    },
    {
      "cell_type": "code",
      "source": [
        "def window_delay(a,size=1):\n",
        "    if abs(a) <= size and a >= 0:\n",
        "        return 1;\n",
        "    else:\n",
        "        return 0;\n",
        "\n",
        "\n",
        "\n",
        "window_size = 20 #20\n",
        "delay = lambda x:window_delay(x,window_size)\n"
      ],
      "metadata": {
        "id": "iYAKeKxxXOAF"
      },
      "execution_count": 44,
      "outputs": []
    },
    {
      "cell_type": "code",
      "execution_count": 45,
      "metadata": {
        "id": "g5Y629RhNS79"
      },
      "outputs": [],
      "source": [
        "def linear_distance(i,j):\n",
        "    return i-j\n",
        "\n",
        "\n",
        "#get the customers linked to customer i\n",
        "def get_linked(i,link):\n",
        "    c = []\n",
        "    q = []\n",
        "    q.append(i)\n",
        "    while q:\n",
        "        cur = q[0]\n",
        "        c.append(cur)\n",
        "        for k in range(0,len(link)):\n",
        "            if (link[k] == cur) and (k not in c) and (k not in q):\n",
        "                q.append(k)\n",
        "        q = q[1:]\n",
        "    return c\n",
        "\n",
        "def ddcrp_infer(obs,lhood_fn,distance,delay,n_iter,alpha = 0.2):\n",
        "    n = len(obs)\n",
        "    cluster = np.array([0]*n)\n",
        "    link = np.array([0]*n)\n",
        "    prior = np.random.random(n*n).reshape((n,n))\n",
        "    #lhood = np.random.random(n)\n",
        "    merged_lhood = np.random.random(n)\n",
        "    lhood = list(map(lambda x: lhood_fn(obs[np.where(cluster == x)]) , cluster))  #lhood of each cluster\n",
        "\n",
        "    obs_lhood = 0 #the likelihood of all obs\n",
        "\n",
        "    #prior of each customer\n",
        "    for i in range(0,n):\n",
        "        for j in range(0,n):\n",
        "            try:\n",
        "                if i==j:\n",
        "                    prior[i][j] = np.log(alpha)\n",
        "                else:\n",
        "                    seterr(divide='ignore')\n",
        "                    prior[i][j] = np.log(delay(distance(i,j)))\n",
        "                    seterr(divide='warn')\n",
        "                    prior[i][j][isneginf(prior[i][j])] = 0\n",
        "            except Exception as e:\n",
        "                # print(e)\n",
        "                pass\n",
        "\n",
        "\n",
        "    for t in range(0,n_iter):\n",
        "        print(\"iter \"+str(t))\n",
        "        obs_lhood = 0\n",
        "        for i in range(0,n):\n",
        "            #print (\"sample\"+str(i)+\"th:\")\n",
        "            #remove the ith's link\n",
        "            old_link = link[i]\n",
        "            old_cluster = cluster[old_link]\n",
        "            cluster[i] = i\n",
        "            link[i] = i\n",
        "            linked = get_linked(i,link)\n",
        "            # print(linked)\n",
        "            cluster[linked] = i\n",
        "\n",
        "            if old_cluster not in linked :\n",
        "                idx = np.where(cluster == old_cluster)\n",
        "                lhood[old_cluster] = lhood_fn(obs[idx])\n",
        "                lhood[i] = lhood_fn(obs[linked])\n",
        "\n",
        "\n",
        "            #calculate the likelihood of the merged cluster\n",
        "            for j in np.unique(cluster):\n",
        "\n",
        "                if j == cluster[i] :\n",
        "                    merged_lhood[j] = 2*lhood_fn(obs[linked])\n",
        "                else:\n",
        "                    merged_lhood[j] = lhood_fn(np.concatenate((obs[linked] , obs[np.where(cluster == j)])))\n",
        "\n",
        "            log_prob = list(map(lambda x: prior[i][x] + merged_lhood[cluster[x]] - lhood[cluster[x]]-lhood[cluster[i]], np.arange(n)))\n",
        "            prob = np.exp(log_prob - logsumexp(log_prob))\n",
        "\n",
        "            #sample z_i\n",
        "            link[i] = np.random.choice(np.arange(n),1,p=prob)\n",
        "\n",
        "            #update the likelihood if the link sample merge two cluster\n",
        "            new_cluster = cluster[link[i]]\n",
        "            if new_cluster !=i:\n",
        "                cluster[linked] = new_cluster\n",
        "                lhood[new_cluster] = merged_lhood[new_cluster]\n",
        "\n",
        "            #cal the likelihood of all obs\n",
        "            for u in np.unique(cluster):\n",
        "                obs_lhood = obs_lhood + lhood[u]\n",
        "\n",
        "        print(\"cluster\")\n",
        "        print(cluster)\n",
        "        print(\"link\")\n",
        "        print(link)\n",
        "        print(obs_lhood)\n",
        "\n",
        "    return cluster,link,obs_lhood"
      ]
    },
    {
      "cell_type": "code",
      "source": [
        "#initalize parameters\n",
        "n_iter =20 #200\n",
        "alpha = 0.0000000000000001  #0.2\n",
        "\n",
        "distance = linear_distance\n",
        "cluster,link,lhood = ddcrp_infer(x,lhood_fn,distance,delay,n_iter,alpha)"
      ],
      "metadata": {
        "colab": {
          "base_uri": "https://localhost:8080/"
        },
        "id": "Nl1QSMrNXPVB",
        "outputId": "566f7de0-fb54-4488-8378-112f1e6c941a"
      },
      "execution_count": 46,
      "outputs": [
        {
          "output_type": "stream",
          "name": "stdout",
          "text": [
            "iter 0\n",
            "cluster\n",
            "[0 0 0 0 0 0 0 0 0 0 0 0 0 0 0]\n",
            "link\n",
            "[ 0  0  0  1  1  2  1  3  5  4  2  5  6  7 11]\n",
            "-3473.440906399421\n",
            "iter 1\n",
            "cluster\n",
            "[0 0 0 0 0 0 0 0 0 0 0 0 0 0 0]\n",
            "link\n",
            "[0 0 1 0 0 3 0 4 3 3 8 4 0 3 3]\n",
            "-3473.440906399421\n",
            "iter 2\n",
            "cluster\n",
            "[0 0 0 0 0 0 0 0 0 0 0 0 0 0 0]\n",
            "link\n",
            "[0 0 1 0 1 1 3 1 5 5 8 3 3 4 7]\n",
            "-3473.440906399421\n",
            "iter 3\n",
            "cluster\n",
            "[0 0 0 0 0 0 0 0 0 0 0 0 0 0 0]\n",
            "link\n",
            "[ 0  0  1  2  0  2  1  2  6  5  4  4  2  4 10]\n",
            "-3473.440906399421\n",
            "iter 4\n",
            "cluster\n",
            "[0 0 0 0 0 0 0 0 0 0 0 0 0 0 0]\n",
            "link\n",
            "[ 0  0  1  1  1  1  0  4  5  7  1  1  5  0 13]\n",
            "-3473.440906399421\n",
            "iter 5\n",
            "cluster\n",
            "[0 0 0 0 0 0 0 0 0 0 0 0 0 0 0]\n",
            "link\n",
            "[ 0  0  0  2  2  3  0  0  4  8  3 10  8  9  1]\n",
            "-3473.440906399421\n",
            "iter 6\n",
            "cluster\n",
            "[0 0 0 0 0 0 0 0 0 0 0 0 0 0 0]\n",
            "link\n",
            "[0 0 1 2 1 3 5 5 6 2 4 2 8 8 4]\n",
            "-3473.440906399421\n",
            "iter 7\n",
            "cluster\n",
            "[0 0 0 0 0 0 0 0 0 0 0 0 0 0 0]\n",
            "link\n",
            "[0 0 1 1 1 2 4 0 7 2 4 2 0 5 0]\n",
            "-3473.440906399421\n",
            "iter 8\n",
            "cluster\n",
            "[0 0 0 0 0 0 0 0 0 0 0 0 0 0 0]\n",
            "link\n",
            "[ 0  0  0  0  1  4  5  1  6  0  4  8  1 10 10]\n",
            "-3473.440906399421\n",
            "iter 9\n",
            "cluster\n",
            "[0 0 0 0 0 0 0 0 0 0 0 0 0 0 0]\n",
            "link\n",
            "[ 0  0  0  1  0  4  3  2  7  3  8  3  9 11  1]\n",
            "-3473.440906399421\n",
            "iter 10\n",
            "cluster\n",
            "[0 0 0 0 4 4 4 0 0 0 0 0 0 0 0]\n",
            "link\n",
            "[ 0  0  0  2  4  4  5  0  1  1  2 10  0  0  1]\n",
            "-2817.529348099022\n",
            "iter 11\n",
            "cluster\n",
            "[0 0 0 0 4 4 4 4 0 0 0 0 0 0 0]\n",
            "link\n",
            "[ 0  0  1  1  4  4  4  4  3  1  8 10 11  1  0]\n",
            "-2375.136677868507\n",
            "iter 12\n",
            "cluster\n",
            "[0 0 0 0 4 4 4 4 0 0 0 0 0 0 0]\n",
            "link\n",
            "[ 0  0  1  0  4  4  4  6  2  0  9  9  8 12  9]\n",
            "-2203.4494194979998\n",
            "iter 13\n",
            "cluster\n",
            "[0 0 0 0 4 4 4 4 0 0 0 0 0 0 0]\n",
            "link\n",
            "[ 0  0  1  0  4  4  5  5  1  8  1  8 10 12  3]\n",
            "-2203.4494194979998\n",
            "iter 14\n",
            "cluster\n",
            "[0 0 0 0 4 4 4 4 0 0 0 0 0 0 0]\n",
            "link\n",
            "[ 0  0  1  1  4  4  4  6  0  8  2  3  0 11  1]\n",
            "-2203.4494194979998\n",
            "iter 15\n",
            "cluster\n",
            "[0 0 0 0 4 4 4 4 0 0 0 0 0 0 0]\n",
            "link\n",
            "[ 0  0  1  2  4  4  5  6  0  1  2  1  1 11 10]\n",
            "-2203.4494194979998\n",
            "iter 16\n",
            "cluster\n",
            "[0 0 0 0 4 4 4 4 0 0 0 0 0 0 0]\n",
            "link\n",
            "[0 0 1 2 4 4 5 4 3 2 9 9 1 3 2]\n",
            "-2203.4494194979998\n",
            "iter 17\n",
            "cluster\n",
            "[0 0 0 0 4 4 4 4 0 0 0 0 0 0 0]\n",
            "link\n",
            "[ 0  0  0  1  4  4  5  4  1  2  8  8 10 11  0]\n",
            "-2203.4494194979998\n",
            "iter 18\n",
            "cluster\n",
            "[0 0 0 0 4 4 4 4 0 0 0 0 0 0 0]\n",
            "link\n",
            "[0 0 1 1 4 4 5 5 3 3 9 8 3 0 2]\n",
            "-2203.4494194979998\n",
            "iter 19\n",
            "cluster\n",
            "[0 0 0 0 4 4 4 4 0 0 0 0 0 0 0]\n",
            "link\n",
            "[ 0  0  1  1  4  4  4  5  2  2  8  2  3  3 13]\n",
            "-2203.4494194979998\n"
          ]
        }
      ]
    }
  ]
}